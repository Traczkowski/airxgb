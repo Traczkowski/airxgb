{
 "cells": [
  {
   "cell_type": "code",
   "execution_count": 1,
   "metadata": {},
   "outputs": [
    {
     "data": {
      "text/html": [
       "<style>.container { width:95% !important; }</style>"
      ],
      "text/plain": [
       "<IPython.core.display.HTML object>"
      ]
     },
     "metadata": {},
     "output_type": "display_data"
    }
   ],
   "source": [
    "import re\n",
    "import pprint\n",
    "import numpy as np\n",
    "import pandas as pd\n",
    "from math import sqrt\n",
    "import matplotlib.pyplot as plt\n",
    "from collections import Counter\n",
    "from sklearn.ensemble import RandomForestClassifier\n",
    "from sklearn.ensemble import RandomForestRegressor\n",
    "from sklearn.model_selection import train_test_split\n",
    "from sklearn.preprocessing import LabelEncoder\n",
    "from sklearn.preprocessing import OneHotEncoder\n",
    "from sklearn.preprocessing import StandardScaler\n",
    "from sklearn.metrics import mean_squared_log_error\n",
    "from sklearn.metrics import mean_squared_error\n",
    "from sklearn.linear_model import LogisticRegression\n",
    "from math import sqrt\n",
    "import warnings\n",
    "from xgboost import XGBClassifier\n",
    "from sklearn.metrics import accuracy_score\n",
    "warnings.filterwarnings('ignore')\n",
    "%matplotlib inline\n",
    "from IPython.core.display import display, HTML\n",
    "display(HTML(\"<style>.container { width:95% !important; }</style>\"))\n",
    "import pyproj as proj\n",
    "import copy"
   ]
  },
  {
   "cell_type": "markdown",
   "metadata": {},
   "source": [
    "## After making my imports, I worked with New York data as the base for my model\n",
    "\n",
    "### While it is certainly the case that other cities will function differently than New York, I wanted to build out my working model with this city, as it has the largest amount of data available to start and has a large variety of pricing options, I would really enjoy moving my price bins to reflect different cities better to increase the quality of my model in various cities. This is the version of my code without any amenities present."
   ]
  },
  {
   "cell_type": "code",
   "execution_count": 2,
   "metadata": {},
   "outputs": [],
   "source": [
    "NY = pd.read_csv('data/NYListings.csv')"
   ]
  },
  {
   "cell_type": "code",
   "execution_count": 3,
   "metadata": {},
   "outputs": [],
   "source": [
    "def clean_price(strngy):\n",
    "    \"\"\"\n",
    "    Quick function to strip formatting from dollars\n",
    "    \"\"\"\n",
    "    dols = strngy.replace('$', '')\n",
    "    dols = dols.replace(',', '')\n",
    "    dols = float(dols)\n",
    "    return dols\n",
    "\n",
    "def clean_amens(amenity):\n",
    "    \"\"\"\n",
    "    Quick function to unpack amenities into list\n",
    "    \"\"\"\n",
    "    amenity = amenity.replace('{','')\n",
    "    amenity = amenity.replace('}','')\n",
    "    amenity = amenity.replace('\"','')\n",
    "    amenlist = amenity.split(',')\n",
    "    return amenlist\n",
    "    \n",
    "def clean_DF(DF, region):\n",
    "    \"\"\"\n",
    "    Clean_DF does what it says, it takes in a cityDF, then initially drops any columns\n",
    "    that won't be used, and proceeds to fill out ones that will be needed with some \n",
    "    assumed values.\n",
    "    \"\"\"\n",
    "    #Dropping undesirable columns...\n",
    "    DF = DF[desired]\n",
    "    \n",
    "    DF.cleaning_fee.fillna(value = '$0.00', inplace = True)\n",
    "\n",
    "    DF.price = DF.price.apply(clean_price)\n",
    "    DF.cleaning_fee = DF.cleaning_fee.apply(clean_price)\n",
    "\n",
    "    DF = DF[DF['price'] != 0]\n",
    "    DF = DF[np.isfinite(DF.bathrooms)]\n",
    "    DF = DF[np.isfinite(DF.bedrooms)]\n",
    "    DF = DF[np.isfinite(DF.beds)]\n",
    "    \n",
    "    #Drop Other property types, these accounted for a very small amount of rows\n",
    "    #it included various interesting structures such as yurts and teepees.\n",
    "    prop_types = ['Apartment', 'House', 'Townhouse', 'Loft', 'Condominium']\n",
    "    DF = DF[DF['property_type'].isin(prop_types)]\n",
    "    \n",
    "    \n",
    "    return DF"
   ]
  },
  {
   "cell_type": "code",
   "execution_count": 4,
   "metadata": {},
   "outputs": [],
   "source": [
    "desired = [\n",
    " 'property_type','room_type','accommodates','bathrooms',\n",
    " 'bedrooms','beds','price','cleaning_fee', 'latitude', 'longitude']"
   ]
  },
  {
   "cell_type": "code",
   "execution_count": 5,
   "metadata": {},
   "outputs": [],
   "source": [
    "nyc = clean_DF(NY, 'New York City')"
   ]
  },
  {
   "cell_type": "markdown",
   "metadata": {},
   "source": [
    "#### Here I am just running my NY dataframe through the cleaning function, I ended up dropping many columns from the dataframe as I found them to have little signal after doing EDA on them. There were many columns that I thought would have significantly more signal. Ones with booleans, ones regarding host information, listing information, etc. Some of the columns I want to explore in the future would be the ones with regular language to see if there would be any NLP that can be done to try to get closer to the prices that are being asked for rentals"
   ]
  },
  {
   "cell_type": "code",
   "execution_count": 6,
   "metadata": {},
   "outputs": [
    {
     "data": {
      "text/html": [
       "<div>\n",
       "<style scoped>\n",
       "    .dataframe tbody tr th:only-of-type {\n",
       "        vertical-align: middle;\n",
       "    }\n",
       "\n",
       "    .dataframe tbody tr th {\n",
       "        vertical-align: top;\n",
       "    }\n",
       "\n",
       "    .dataframe thead th {\n",
       "        text-align: right;\n",
       "    }\n",
       "</style>\n",
       "<table border=\"1\" class=\"dataframe\">\n",
       "  <thead>\n",
       "    <tr style=\"text-align: right;\">\n",
       "      <th></th>\n",
       "      <th>property_type</th>\n",
       "      <th>room_type</th>\n",
       "      <th>accommodates</th>\n",
       "      <th>bathrooms</th>\n",
       "      <th>bedrooms</th>\n",
       "      <th>beds</th>\n",
       "      <th>price</th>\n",
       "      <th>cleaning_fee</th>\n",
       "      <th>latitude</th>\n",
       "      <th>longitude</th>\n",
       "    </tr>\n",
       "  </thead>\n",
       "  <tbody>\n",
       "    <tr>\n",
       "      <th>44853</th>\n",
       "      <td>House</td>\n",
       "      <td>Shared room</td>\n",
       "      <td>2</td>\n",
       "      <td>17.0</td>\n",
       "      <td>1.0</td>\n",
       "      <td>2.0</td>\n",
       "      <td>35.0</td>\n",
       "      <td>30.0</td>\n",
       "      <td>40.696762</td>\n",
       "      <td>-73.939594</td>\n",
       "    </tr>\n",
       "  </tbody>\n",
       "</table>\n",
       "</div>"
      ],
      "text/plain": [
       "      property_type    room_type  accommodates  bathrooms  bedrooms  beds  \\\n",
       "44853         House  Shared room             2       17.0       1.0   2.0   \n",
       "\n",
       "       price  cleaning_fee   latitude  longitude  \n",
       "44853   35.0          30.0  40.696762 -73.939594  "
      ]
     },
     "execution_count": 6,
     "metadata": {},
     "output_type": "execute_result"
    }
   ],
   "source": [
    "nyc[nyc.bathrooms == 17]"
   ]
  },
  {
   "cell_type": "markdown",
   "metadata": {},
   "source": [
    "#### Above is a pretty classic example of a listing that would throw off any attempts at a model, this is why I will be cleaning the bedroom and bathroom columns below."
   ]
  },
  {
   "cell_type": "code",
   "execution_count": 7,
   "metadata": {},
   "outputs": [],
   "source": [
    "nyc.price = np.array(nyc.price)+np.array(nyc.cleaning_fee)\n",
    "nyc.drop(labels='cleaning_fee', axis=1, inplace=True)"
   ]
  },
  {
   "cell_type": "code",
   "execution_count": 8,
   "metadata": {},
   "outputs": [
    {
     "data": {
      "image/png": "[encoded data removed]",
      "text/plain": [
       "<Figure size 432x288 with 1 Axes>"
      ]
     },
     "metadata": {},
     "output_type": "display_data"
    }
   ],
   "source": [
    "nyc.price.hist(bins=20);"
   ]
  },
  {
   "cell_type": "code",
   "execution_count": 9,
   "metadata": {},
   "outputs": [
    {
     "data": {
      "text/plain": [
       "47421"
      ]
     },
     "execution_count": 9,
     "metadata": {},
     "output_type": "execute_result"
    }
   ],
   "source": [
    "len(nyc)"
   ]
  },
  {
   "cell_type": "code",
   "execution_count": 10,
   "metadata": {},
   "outputs": [],
   "source": [
    "nyc = nyc[nyc['price'] <= 500]"
   ]
  },
  {
   "cell_type": "code",
   "execution_count": 11,
   "metadata": {},
   "outputs": [
    {
     "data": {
      "image/png": "[encoded data removed]",
      "text/plain": [
       "<Figure size 432x288 with 1 Axes>"
      ]
     },
     "metadata": {},
     "output_type": "display_data"
    }
   ],
   "source": [
    "nyc.price.hist(bins=30);"
   ]
  },
  {
   "cell_type": "code",
   "execution_count": 12,
   "metadata": {},
   "outputs": [
    {
     "data": {
      "text/plain": [
       "45765"
      ]
     },
     "execution_count": 12,
     "metadata": {},
     "output_type": "execute_result"
    }
   ],
   "source": [
    "len(nyc)"
   ]
  },
  {
   "cell_type": "code",
   "execution_count": 13,
   "metadata": {},
   "outputs": [],
   "source": [
    "nyc.price = pd.cut(nyc.price, bins=[1,150,300,400,500], right=True) #best\n",
    "#nyc.price = pd.cut(nyc.price, bins=[1,100,200,300,400,500], right=True)\n",
    "#nyc.price = pd.cut(nyc.price, bins=[1,100,150,250,500], right=True)"
   ]
  },
  {
   "cell_type": "code",
   "execution_count": 14,
   "metadata": {},
   "outputs": [
    {
     "data": {
      "text/plain": [
       "(1, 150]      26001\n",
       "(150, 300]    15189\n",
       "(300, 400]     3289\n",
       "(400, 500]     1286\n",
       "Name: price, dtype: int64"
      ]
     },
     "execution_count": 14,
     "metadata": {},
     "output_type": "execute_result"
    }
   ],
   "source": [
    "nyc.price.value_counts()"
   ]
  },
  {
   "cell_type": "code",
   "execution_count": 15,
   "metadata": {},
   "outputs": [],
   "source": [
    "nyc = nyc[nyc['bedrooms'] <= 5]\n",
    "nyc = nyc[nyc['beds'] <= 6]\n",
    "nyc = nyc[nyc['bathrooms'] <= 4]\n",
    "nyc = nyc[nyc['accommodates'] <= 10]"
   ]
  },
  {
   "cell_type": "code",
   "execution_count": 16,
   "metadata": {},
   "outputs": [
    {
     "data": {
      "text/plain": [
       "45586"
      ]
     },
     "execution_count": 16,
     "metadata": {},
     "output_type": "execute_result"
    }
   ],
   "source": [
    "len(nyc)"
   ]
  },
  {
   "cell_type": "markdown",
   "metadata": {},
   "source": [
    "#### Here I am just showing how the histograms looked before and after the data cleaning, and showing how many entries I am losing as I clean up my data, going from ~47,500 non-zero priced listings to about ~45,500 as my input for my final model. One of the funny things to note here is the spike that happens near the round numbers of 200, 300, 400, and 500. In other cities this effect was much more pronounced, and can be seen in the presentation I have included. "
   ]
  },
  {
   "cell_type": "code",
   "execution_count": 17,
   "metadata": {},
   "outputs": [],
   "source": [
    "input_lon = np.array(nyc.longitude)\n",
    "input_lat = np.array(nyc.latitude)"
   ]
  },
  {
   "cell_type": "markdown",
   "metadata": {},
   "source": [
    "#### In the next cell, I am converting the latitude and longitudes of NYC into meters using the Pyproj library, this is something that ended up causing me some grief with other cities that I was trying to predict on (so they will have a slightly different process, shown in a different file). The issue that I was coming across consistently was that cities east of the Mississippi river were coming up without any issues, while cities to the west would cause arrays full of \"inf\"s to appear. The issue was that the values entered here were tied to a UK grid, so they didn't extend all the way across the United States, just far enough for a few of the cites to work, while causing problems for others. The other model I make will use the latitude and longitude as straight X-Y coordinates instead of projecting them. At this point, I haven't found a working projection within Pyproj that I can use, but when I do I would be updating this code with my other cities, as converting everything to meters helped my predictions quite a bit."
   ]
  },
  {
   "cell_type": "code",
   "execution_count": 18,
   "metadata": {},
   "outputs": [],
   "source": [
    "crs_wgs = proj.Proj(init='epsg:4326') \n",
    "crs_bng = proj.Proj(init='epsg:27700') \n",
    "x_points, y_points = proj.transform(crs_wgs, crs_bng, input_lon, input_lat)"
   ]
  },
  {
   "cell_type": "code",
   "execution_count": 19,
   "metadata": {},
   "outputs": [],
   "source": [
    "x_try = x_points/np.mean(x_points)\n",
    "y_try = y_points/np.mean(y_points)"
   ]
  },
  {
   "cell_type": "code",
   "execution_count": 20,
   "metadata": {},
   "outputs": [],
   "source": [
    "new_x_points = np.round(x_try, 4)\n",
    "new_y_points = np.round(y_try, 4)"
   ]
  },
  {
   "cell_type": "code",
   "execution_count": 21,
   "metadata": {},
   "outputs": [],
   "source": [
    "nyc['lats'] = new_x_points\n",
    "nyc['longs'] = new_y_points"
   ]
  },
  {
   "cell_type": "code",
   "execution_count": 22,
   "metadata": {},
   "outputs": [],
   "source": [
    "nyc.price = [i.replace(')',']') for i in list(map(str, nyc.price))]"
   ]
  },
  {
   "cell_type": "code",
   "execution_count": 23,
   "metadata": {},
   "outputs": [
    {
     "data": {
      "text/plain": [
       "Index(['property_type', 'room_type', 'accommodates', 'bathrooms', 'bedrooms',\n",
       "       'beds', 'price', 'latitude', 'longitude', 'lats', 'longs'],\n",
       "      dtype='object')"
      ]
     },
     "execution_count": 23,
     "metadata": {},
     "output_type": "execute_result"
    }
   ],
   "source": [
    "nyc.columns"
   ]
  },
  {
   "cell_type": "code",
   "execution_count": 24,
   "metadata": {},
   "outputs": [],
   "source": [
    "no_dum_nyc = nyc[['accommodates', 'bathrooms', 'bedrooms',\n",
    "       'beds', 'price', 'lats', 'longs']]"
   ]
  },
  {
   "cell_type": "code",
   "execution_count": 25,
   "metadata": {},
   "outputs": [],
   "source": [
    "x_nodum = no_dum_nyc.drop('price', axis=1)\n",
    "y_nodum = no_dum_nyc.price"
   ]
  },
  {
   "cell_type": "code",
   "execution_count": 26,
   "metadata": {},
   "outputs": [],
   "source": [
    "x_nodum_train, x_nodum_test, y_nodum_train, y_nodum_test = train_test_split(x_nodum.values.tolist(), list(y_nodum), test_size=.50)"
   ]
  },
  {
   "cell_type": "code",
   "execution_count": 27,
   "metadata": {},
   "outputs": [],
   "source": [
    "rf = RandomForestClassifier(n_estimators=1000, criterion ='entropy', min_samples_split=2,\n",
    "                            min_samples_leaf=50, n_jobs=16, bootstrap=True, warm_start=True, random_state=42)"
   ]
  },
  {
   "cell_type": "markdown",
   "metadata": {},
   "source": [
    "#### While creating my classifier, I was having issues with n_jobs = -1 (it wasn't showing 16 busy cores in htop for some reason, so I had manually set it to n_jobs = 16 and it began showing them all being busy in htop. I wasn't sure what had caused this, but the fix worked so I didn't change everything around for it. If you would like to run this code on a standard machine, I recommend setting -1 here."
   ]
  },
  {
   "cell_type": "code",
   "execution_count": 28,
   "metadata": {},
   "outputs": [],
   "source": [
    "def evaluate_rf(model, test_features, test_labels):\n",
    "    predictions = model.predict(test_features)\n",
    "    results = [1 if i == j else 0 for (i,j) in zip(predictions, test_labels)]\n",
    "    accuracy = sum(results)/len(results)\n",
    "    print('Accuracy = {:0.2f}%.'.format(accuracy))\n",
    "    return accuracy"
   ]
  },
  {
   "cell_type": "code",
   "execution_count": 29,
   "metadata": {},
   "outputs": [
    {
     "name": "stdout",
     "output_type": "stream",
     "text": [
      "Accuracy = 0.71%.\n",
      "0.7066204536480498\n",
      "Accuracy = 0.71%.\n",
      "0.7066643267669899\n",
      "Accuracy = 0.71%.\n",
      "0.7070153117185101\n",
      "Accuracy = 0.71%.\n",
      "0.7067081998859299\n",
      "Accuracy = 0.71%.\n",
      "0.7066204536480498\n",
      "Accuracy = 0.71%.\n",
      "0.7067959461238099\n",
      "Accuracy = 0.71%.\n",
      "0.7067959461238099\n",
      "Accuracy = 0.71%.\n",
      "0.7067959461238099\n",
      "Accuracy = 0.71%.\n",
      "0.70683981924275\n",
      "Accuracy = 0.71%.\n",
      "0.7067081998859299\n"
     ]
    }
   ],
   "source": [
    "for i in range(10):\n",
    "    rf.fit(x_nodum_train, y_nodum_train)\n",
    "    rf.n_estimators += 100\n",
    "    print (evaluate_rf(rf, x_nodum_test, y_nodum_test))"
   ]
  },
  {
   "cell_type": "markdown",
   "metadata": {},
   "source": [
    "#### This is a nice piece of code I found online which allows me to very neatly output the feature importance in a dataframe, it is used below with XGBoost as well..."
   ]
  },
  {
   "cell_type": "code",
   "execution_count": 30,
   "metadata": {},
   "outputs": [],
   "source": [
    "feature_importances = pd.DataFrame(rf.feature_importances_,\n",
    "                                  index = x_nodum.columns,\n",
    "                                  columns=['importance']).sort_values('importance', ascending=False)"
   ]
  },
  {
   "cell_type": "code",
   "execution_count": 31,
   "metadata": {},
   "outputs": [
    {
     "data": {
      "text/html": [
       "<div>\n",
       "<style scoped>\n",
       "    .dataframe tbody tr th:only-of-type {\n",
       "        vertical-align: middle;\n",
       "    }\n",
       "\n",
       "    .dataframe tbody tr th {\n",
       "        vertical-align: top;\n",
       "    }\n",
       "\n",
       "    .dataframe thead th {\n",
       "        text-align: right;\n",
       "    }\n",
       "</style>\n",
       "<table border=\"1\" class=\"dataframe\">\n",
       "  <thead>\n",
       "    <tr style=\"text-align: right;\">\n",
       "      <th></th>\n",
       "      <th>importance</th>\n",
       "    </tr>\n",
       "  </thead>\n",
       "  <tbody>\n",
       "    <tr>\n",
       "      <th>accommodates</th>\n",
       "      <td>0.332861</td>\n",
       "    </tr>\n",
       "    <tr>\n",
       "      <th>longs</th>\n",
       "      <td>0.255548</td>\n",
       "    </tr>\n",
       "    <tr>\n",
       "      <th>bedrooms</th>\n",
       "      <td>0.166973</td>\n",
       "    </tr>\n",
       "    <tr>\n",
       "      <th>lats</th>\n",
       "      <td>0.123917</td>\n",
       "    </tr>\n",
       "    <tr>\n",
       "      <th>beds</th>\n",
       "      <td>0.095467</td>\n",
       "    </tr>\n",
       "    <tr>\n",
       "      <th>bathrooms</th>\n",
       "      <td>0.025235</td>\n",
       "    </tr>\n",
       "  </tbody>\n",
       "</table>\n",
       "</div>"
      ],
      "text/plain": [
       "              importance\n",
       "accommodates    0.332861\n",
       "longs           0.255548\n",
       "bedrooms        0.166973\n",
       "lats            0.123917\n",
       "beds            0.095467\n",
       "bathrooms       0.025235"
      ]
     },
     "execution_count": 31,
     "metadata": {},
     "output_type": "execute_result"
    }
   ],
   "source": [
    "feature_importances"
   ]
  },
  {
   "cell_type": "markdown",
   "metadata": {},
   "source": [
    "#### The above code can be pretty easily ported to the other cities eastern cities (Boston, Washington DC, and New Orleans), however the western cities will cause problems, so they are in a more general model where I continue to use the latitude and longitude rather than meters. Below, I have included code for some searching of hyperparameters, and then I begin XGBoosting."
   ]
  },
  {
   "cell_type": "code",
   "execution_count": 32,
   "metadata": {},
   "outputs": [],
   "source": [
    "# from sklearn.model_selection import RandomizedSearchCV\n",
    "\n",
    "# # Number of trees in random forest\n",
    "\n",
    "# n_estimators = [100]\n",
    "\n",
    "# # Number of features to consider at every split\n",
    "# max_features = ['auto', 'sqrt']\n",
    "\n",
    "# # Maximum number of levels in tree\n",
    "# max_depth = [int(x) for x in np.linspace(1, 7, num = 1)]\n",
    "\n",
    "# # Minimum number of samples required to split a node\n",
    "# min_samples_split = [2,4,5,6,7]\n",
    "\n",
    "# # Minimum number of samples required at each leaf node\n",
    "# min_samples_leaf = [5,10,50,75,100,1000,5000]\n",
    "\n",
    "# # Method of selecting samples for training each tree\n",
    "# bootstrap = [True, False]\n",
    "\n",
    "# # Create the random grid\n",
    "# random_grid = {'n_estimators': n_estimators,\n",
    "#                'max_features': max_features,\n",
    "#                'max_depth': max_depth,\n",
    "#                'min_samples_split': min_samples_split,\n",
    "#                'min_samples_leaf': min_samples_leaf,\n",
    "#                'bootstrap': bootstrap}"
   ]
  },
  {
   "cell_type": "code",
   "execution_count": 33,
   "metadata": {},
   "outputs": [],
   "source": [
    "# # Random search of parameters, using 3 fold cross validation, \n",
    "# # search across 100 different combinations, and use all available cores\n",
    "# rf_random = RandomizedSearchCV(estimator=rf, param_distributions=random_grid, n_iter=140, cv=3, verbose=2, random_state=42, n_jobs=-1)"
   ]
  },
  {
   "cell_type": "code",
   "execution_count": 34,
   "metadata": {},
   "outputs": [],
   "source": [
    "# # Fit the random search model\n",
    "# rf_random.fit(x_nodum_train, y_nodum_train)"
   ]
  },
  {
   "cell_type": "code",
   "execution_count": 35,
   "metadata": {},
   "outputs": [],
   "source": [
    "# rf_random.best_params_"
   ]
  },
  {
   "cell_type": "code",
   "execution_count": 36,
   "metadata": {},
   "outputs": [],
   "source": [
    "# def evaluate(model, test_features, test_labels):\n",
    "#     predictions = model.predict(test_features)\n",
    "#     results = [1 if i == j else 0 for (i,j) in zip(predictions, test_labels)]\n",
    "#     accuracy = sum(results)/len(results)\n",
    "#     print('Accuracy = {:0.2f}%.'.format(accuracy))\n",
    "#     return accuracy"
   ]
  },
  {
   "cell_type": "code",
   "execution_count": 37,
   "metadata": {},
   "outputs": [],
   "source": [
    "# best_random = rf_random.best_estimator_\n",
    "# random_accuracy = evaluate(best_random, x_nodum_test, y_nodum_test)"
   ]
  },
  {
   "cell_type": "code",
   "execution_count": 38,
   "metadata": {},
   "outputs": [],
   "source": [
    "##### START XGBoost #####"
   ]
  },
  {
   "cell_type": "code",
   "execution_count": 39,
   "metadata": {},
   "outputs": [
    {
     "data": {
      "text/plain": [
       "XGBClassifier(base_score=0.5, booster='gbtree', colsample_bylevel=1,\n",
       "       colsample_bytree=1, gamma=0, learning_rate=0.1, max_delta_step=0,\n",
       "       max_depth=3, min_child_weight=1, missing=None, n_estimators=100,\n",
       "       n_jobs=16, nthread=None, objective='multi:softprob', random_state=0,\n",
       "       reg_alpha=0, reg_lambda=1, scale_pos_weight=1, seed=None,\n",
       "       silent=True, subsample=1)"
      ]
     },
     "execution_count": 39,
     "metadata": {},
     "output_type": "execute_result"
    }
   ],
   "source": [
    "xg = XGBClassifier(objective='multi:softmax', n_jobs=16) #default estimators is 100\n",
    "xg.fit(np.array(x_nodum_train), np.array(y_nodum_train))"
   ]
  },
  {
   "cell_type": "code",
   "execution_count": 40,
   "metadata": {},
   "outputs": [
    {
     "name": "stdout",
     "output_type": "stream",
     "text": [
      "Accuracy: 70.86%\n"
     ]
    }
   ],
   "source": [
    "y_pred = xg.predict(x_nodum_test)\n",
    "accuracy = accuracy_score(y_nodum_test, y_pred)\n",
    "print(\"Accuracy: %.2f%%\" % (accuracy * 100.0))"
   ]
  },
  {
   "cell_type": "code",
   "execution_count": 41,
   "metadata": {},
   "outputs": [
    {
     "data": {
      "text/plain": [
       "XGBClassifier(base_score=0.5, booster='gbtree', colsample_bylevel=1,\n",
       "       colsample_bytree=1, gamma=0, learning_rate=0.1, max_delta_step=0,\n",
       "       max_depth=3, min_child_weight=1, missing=None, n_estimators=1000,\n",
       "       n_jobs=16, nthread=None, objective='multi:softprob', random_state=0,\n",
       "       reg_alpha=0, reg_lambda=1, scale_pos_weight=1, seed=None,\n",
       "       silent=True, subsample=1)"
      ]
     },
     "execution_count": 41,
     "metadata": {},
     "output_type": "execute_result"
    }
   ],
   "source": [
    "xg = XGBClassifier(objective='multi:softmax', n_estimators=1000, n_jobs=16) \n",
    "xg.fit(np.array(x_nodum_train), np.array(y_nodum_train))"
   ]
  },
  {
   "cell_type": "code",
   "execution_count": 42,
   "metadata": {},
   "outputs": [
    {
     "name": "stdout",
     "output_type": "stream",
     "text": [
      "Accuracy: 71.02%\n"
     ]
    }
   ],
   "source": [
    "y_pred = xg.predict(x_nodum_test)\n",
    "accuracy = accuracy_score(y_nodum_test, y_pred)\n",
    "print(\"Accuracy: %.2f%%\" % (accuracy * 100.0))"
   ]
  },
  {
   "cell_type": "code",
   "execution_count": 43,
   "metadata": {},
   "outputs": [
    {
     "data": {
      "text/plain": [
       "XGBClassifier(base_score=0.5, booster='gbtree', colsample_bylevel=1,\n",
       "       colsample_bytree=1, gamma=0, learning_rate=0.15, max_delta_step=0,\n",
       "       max_depth=3, min_child_weight=1, missing=None, n_estimators=1000,\n",
       "       n_jobs=16, nthread=None, objective='multi:softprob', random_state=0,\n",
       "       reg_alpha=0, reg_lambda=1, scale_pos_weight=1, seed=None,\n",
       "       silent=True, subsample=1)"
      ]
     },
     "execution_count": 43,
     "metadata": {},
     "output_type": "execute_result"
    }
   ],
   "source": [
    "xg = XGBClassifier(objective='multi:softmax', n_estimators=1000, learning_rate=0.15, n_jobs=16) \n",
    "xg.fit(np.array(x_nodum_train), np.array(y_nodum_train))"
   ]
  },
  {
   "cell_type": "code",
   "execution_count": 44,
   "metadata": {},
   "outputs": [
    {
     "name": "stdout",
     "output_type": "stream",
     "text": [
      "Accuracy: 70.93%\n"
     ]
    }
   ],
   "source": [
    "y_pred = xg.predict(x_nodum_test)\n",
    "accuracy = accuracy_score(y_nodum_test, y_pred)\n",
    "print(\"Accuracy: %.2f%%\" % (accuracy * 100.0))"
   ]
  },
  {
   "cell_type": "code",
   "execution_count": 45,
   "metadata": {},
   "outputs": [
    {
     "name": "stdout",
     "output_type": "stream",
     "text": [
      "Accuracy: 70.63%\n"
     ]
    }
   ],
   "source": [
    "xg = XGBClassifier(objective='multi:softmax', n_estimators=3000, \n",
    "                   learning_rate=0.1, n_jobs=16) \n",
    "xg.fit(np.array(x_nodum_train), np.array(y_nodum_train))\n",
    "\n",
    "y_pred = xg.predict(x_nodum_test)\n",
    "accuracy = accuracy_score(y_nodum_test, y_pred)\n",
    "print(\"Accuracy: %.2f%%\" % (accuracy * 100.0))"
   ]
  },
  {
   "cell_type": "code",
   "execution_count": 46,
   "metadata": {},
   "outputs": [
    {
     "name": "stdout",
     "output_type": "stream",
     "text": [
      "Accuracy: 71.07%\n"
     ]
    }
   ],
   "source": [
    "xg = XGBClassifier(objective='multi:softmax', n_estimators=1100, \n",
    "                   learning_rate=0.05, updater='grow_colmaker,prune', n_jobs=16) \n",
    "\n",
    "xg.fit(np.array(x_nodum_train), np.array(y_nodum_train))\n",
    "\n",
    "y_pred = xg.predict(x_nodum_test)\n",
    "accuracy = accuracy_score(y_nodum_test, y_pred)\n",
    "print(\"Accuracy: %.2f%%\" % (accuracy * 100.0))"
   ]
  },
  {
   "cell_type": "markdown",
   "metadata": {},
   "source": [
    "#### Above, I spent some time trying to find the most accurate hyperparameters for XGBoost, there were many more iterations of this happening as well, but not all of them made it into the final code, as there would be times when I would simply throw code away when I made more significant improvements after the fact. Below, I show the feature importances for the final XGBoost classifier that I used."
   ]
  },
  {
   "cell_type": "code",
   "execution_count": 47,
   "metadata": {},
   "outputs": [
    {
     "data": {
      "text/plain": [
       "array([0.11149673, 0.06396814, 0.0716034 , 0.05487159, 0.33485553,\n",
       "       0.36320463], dtype=float32)"
      ]
     },
     "execution_count": 47,
     "metadata": {},
     "output_type": "execute_result"
    }
   ],
   "source": [
    "xg.feature_importances_"
   ]
  },
  {
   "cell_type": "code",
   "execution_count": 48,
   "metadata": {},
   "outputs": [],
   "source": [
    "feature_importances = pd.DataFrame(xg.feature_importances_,\n",
    "                                  index = x_nodum.columns,\n",
    "                                  columns=['importance']).sort_values('importance', ascending=False)"
   ]
  },
  {
   "cell_type": "code",
   "execution_count": 49,
   "metadata": {
    "scrolled": true
   },
   "outputs": [
    {
     "data": {
      "text/html": [
       "<div>\n",
       "<style scoped>\n",
       "    .dataframe tbody tr th:only-of-type {\n",
       "        vertical-align: middle;\n",
       "    }\n",
       "\n",
       "    .dataframe tbody tr th {\n",
       "        vertical-align: top;\n",
       "    }\n",
       "\n",
       "    .dataframe thead th {\n",
       "        text-align: right;\n",
       "    }\n",
       "</style>\n",
       "<table border=\"1\" class=\"dataframe\">\n",
       "  <thead>\n",
       "    <tr style=\"text-align: right;\">\n",
       "      <th></th>\n",
       "      <th>importance</th>\n",
       "    </tr>\n",
       "  </thead>\n",
       "  <tbody>\n",
       "    <tr>\n",
       "      <th>longs</th>\n",
       "      <td>0.363205</td>\n",
       "    </tr>\n",
       "    <tr>\n",
       "      <th>lats</th>\n",
       "      <td>0.334856</td>\n",
       "    </tr>\n",
       "    <tr>\n",
       "      <th>accommodates</th>\n",
       "      <td>0.111497</td>\n",
       "    </tr>\n",
       "    <tr>\n",
       "      <th>bedrooms</th>\n",
       "      <td>0.071603</td>\n",
       "    </tr>\n",
       "    <tr>\n",
       "      <th>bathrooms</th>\n",
       "      <td>0.063968</td>\n",
       "    </tr>\n",
       "    <tr>\n",
       "      <th>beds</th>\n",
       "      <td>0.054872</td>\n",
       "    </tr>\n",
       "  </tbody>\n",
       "</table>\n",
       "</div>"
      ],
      "text/plain": [
       "              importance\n",
       "longs           0.363205\n",
       "lats            0.334856\n",
       "accommodates    0.111497\n",
       "bedrooms        0.071603\n",
       "bathrooms       0.063968\n",
       "beds            0.054872"
      ]
     },
     "execution_count": 49,
     "metadata": {},
     "output_type": "execute_result"
    }
   ],
   "source": [
    "feature_importances"
   ]
  }
 ],
 "metadata": {
  "kernelspec": {
   "display_name": "Python 3",
   "language": "python",
   "name": "python3"
  },
  "language_info": {
   "codemirror_mode": {
    "name": "ipython",
    "version": 3
   },
   "file_extension": ".py",
   "mimetype": "text/x-python",
   "name": "python",
   "nbconvert_exporter": "python",
   "pygments_lexer": "ipython3",
   "version": "3.6.5"
  }
 },
 "nbformat": 4,
 "nbformat_minor": 2
}
